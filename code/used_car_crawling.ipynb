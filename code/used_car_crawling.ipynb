{
 "cells": [
  {
   "cell_type": "code",
   "execution_count": null,
   "metadata": {},
   "outputs": [],
   "source": [
    "#피리요한 라이브러리들을 가지고옵니다.\n",
    "import requests\n",
    "from bs4 import BeautifulSoup\n",
    "from selenium import webdriver\n",
    "from urllib import parse\n",
    "from selenium.webdriver.chrome.options import Options\n",
    "from selenium.webdriver.common.keys import Keys\n",
    "import time"
   ]
  },
  {
   "cell_type": "code",
   "execution_count": null,
   "metadata": {},
   "outputs": [],
   "source": [
    "#kb차차차에서 url을 크롤링 했습니다.\n",
    "urls= []\n",
    "driver = webdriver.Chrome('E:/bigdata/wonho/crawling/chromedriver')\n",
    "for i in range(0, 300):\n",
    "    try:\n",
    "        url = f'https://www.kbchachacha.com/public/search/main.kbc#!?_menu=buy&page={i}&sort=-orderDate&makerCode=101&classCode=1109'\n",
    "        driver.get(url)\n",
    "        time.sleep(1)\n",
    "\n",
    "        for j in range(20):\n",
    "            ur = driver.find_elements_by_css_selector(\n",
    "                '#content > div.common-sub-content.fix-content > div > div.searchArea > div.searchArea__carList > div.__used-car-list > div.cs-list02.cs-list02--ratio.small-tp.generalRegist > div.list-in > div > div.con > div > a')\\\n",
    "                [j].get_attribute('href')\n",
    "            urls.append(ur)\n",
    "\n",
    "    except:\n",
    "        continue\n",
    "driver.quit()"
   ]
  },
  {
   "cell_type": "code",
   "execution_count": null,
   "metadata": {},
   "outputs": [],
   "source": [
    "#메모장에 저장합니다.\n",
    "with open('E:/bigdata/wonho/avante_car_url.txt', 'a', encoding = 'utf-8') as f:\n",
    "    for url in urls:\n",
    "        f.write(url+'\\n')"
   ]
  }
 ],
 "metadata": {
  "kernelspec": {
   "display_name": "Python 3",
   "language": "python",
   "name": "python3"
  },
  "language_info": {
   "codemirror_mode": {
    "name": "ipython",
    "version": 3
   },
   "file_extension": ".py",
   "mimetype": "text/x-python",
   "name": "python",
   "nbconvert_exporter": "python",
   "pygments_lexer": "ipython3",
   "version": "3.7.7"
  }
 },
 "nbformat": 4,
 "nbformat_minor": 4
}
