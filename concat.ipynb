{
 "cells": [
  {
   "cell_type": "markdown",
   "metadata": {},
   "source": [
    "# 모든 모델 데이터 프레임 콘캣"
   ]
  },
  {
   "cell_type": "code",
   "execution_count": 72,
   "metadata": {},
   "outputs": [
    {
     "name": "stdout",
     "output_type": "stream",
     "text": [
      "['수정본\\\\k5.csv', '수정본\\\\k7.csv', '수정본\\\\sm3.csv', '수정본\\\\sm5.csv', '수정본\\\\그랜저.csv', '수정본\\\\모닝.csv', '수정본\\\\봉고.csv', '수정본\\\\스타렉스.csv', '수정본\\\\쏘나타.csv', '수정본\\\\아반떼.csv', '수정본\\\\카니발.csv', '수정본\\\\코란도.csv', '수정본\\\\티볼리.csv', '수정본\\\\포터.csv']\n"
     ]
    }
   ],
   "source": [
    "import pandas as pd\n",
    "\n",
    "import glob\n",
    "\n",
    "file_list = glob.glob('수정본/*.csv')\n",
    "print(file_list)"
   ]
  },
  {
   "cell_type": "code",
   "execution_count": 73,
   "metadata": {},
   "outputs": [],
   "source": [
    "dfl=[]\n",
    "for file in file_list:\n",
    "    df = pd.read_csv(file,index_col=0) # for구문으로 csv파일들을 읽어 들인다\n",
    "    dfl.append(df) # 빈 리스트에 읽어 들인 내용을 추가한다\n",
    "\n",
    "df1 = pd.concat(dfl, axis=0, ignore_index=True)\n",
    "\n",
    "df1.drop('세부등급', axis = 1, inplace = True)\n",
    "df1.reset_index(inplace=True, drop = True)"
   ]
  },
  {
   "cell_type": "code",
   "execution_count": 74,
   "metadata": {},
   "outputs": [
    {
     "name": "stdout",
     "output_type": "stream",
     "text": [
      "<class 'pandas.core.frame.DataFrame'>\n",
      "RangeIndex: 56532 entries, 0 to 56531\n",
      "Data columns (total 39 columns):\n",
      " #   Column     Non-Null Count  Dtype  \n",
      "---  ------     --------------  -----  \n",
      " 0   브랜드        56532 non-null  object \n",
      " 1   모델         56532 non-null  object \n",
      " 2   가격         56532 non-null  int64  \n",
      " 3   연식         56532 non-null  int64  \n",
      " 4   주행거리       56532 non-null  int64  \n",
      " 5   연료         56532 non-null  object \n",
      " 6   변속기        56532 non-null  object \n",
      " 7   연비         51303 non-null  float64\n",
      " 8   차종         56532 non-null  object \n",
      " 9   배기량        56532 non-null  int64  \n",
      " 10  색상         56532 non-null  object \n",
      " 11  세금미납       56532 non-null  object \n",
      " 12  압류         56532 non-null  object \n",
      " 13  저당         56532 non-null  object \n",
      " 14  보험사고정보     56532 non-null  object \n",
      " 15  전손이력       56532 non-null  object \n",
      " 16  침수이력       56532 non-null  object \n",
      " 17  용도이력       56532 non-null  object \n",
      " 18  소유자변경      56532 non-null  int64  \n",
      " 19  연평균주행거리    56532 non-null  object \n",
      " 20  썬루프        56532 non-null  int64  \n",
      " 21  내비게이션      56532 non-null  int64  \n",
      " 22  오토라이트      56532 non-null  int64  \n",
      " 23  주차감지센서     56532 non-null  int64  \n",
      " 24  가죽시트       56532 non-null  int64  \n",
      " 25  열선시트       56532 non-null  int64  \n",
      " 26  전동접이사이드미러  56532 non-null  int64  \n",
      " 27  크루즈컨트롤     56532 non-null  int64  \n",
      " 28  알루미늄휠      56532 non-null  int64  \n",
      " 29  스마트키       56532 non-null  int64  \n",
      " 30  통풍시트       56532 non-null  int64  \n",
      " 31  하이패스룸밀러    56532 non-null  int64  \n",
      " 32  블루투스       56532 non-null  int64  \n",
      " 33  타이어공기압장치   56532 non-null  int64  \n",
      " 34  레인선서와이퍼    56532 non-null  int64  \n",
      " 35  핸들열선       56532 non-null  int64  \n",
      " 36  차선이탈경보     56532 non-null  int64  \n",
      " 37  사이드n커튼에어백  56532 non-null  int64  \n",
      " 38  가격표준화      56532 non-null  float64\n",
      "dtypes: float64(2), int64(23), object(14)\n",
      "memory usage: 16.8+ MB\n"
     ]
    }
   ],
   "source": [
    "df1.info()"
   ]
  },
  {
   "cell_type": "markdown",
   "metadata": {},
   "source": [
    "# 색상 통일 코드"
   ]
  },
  {
   "cell_type": "code",
   "execution_count": null,
   "metadata": {},
   "outputs": [],
   "source": []
  }
 ],
 "metadata": {
  "kernelspec": {
   "display_name": "Python 3",
   "language": "python",
   "name": "python3"
  },
  "language_info": {
   "codemirror_mode": {
    "name": "ipython",
    "version": 3
   },
   "file_extension": ".py",
   "mimetype": "text/x-python",
   "name": "python",
   "nbconvert_exporter": "python",
   "pygments_lexer": "ipython3",
   "version": "3.7.7"
  }
 },
 "nbformat": 4,
 "nbformat_minor": 4
}
